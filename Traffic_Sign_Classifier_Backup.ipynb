{
 "cells": [
  {
   "cell_type": "markdown",
   "metadata": {
    "deletable": true,
    "editable": true
   },
   "source": [
    "# Self-Driving Car Engineer Nanodegree\n",
    "\n",
    "## Deep Learning\n",
    "\n",
    "## Project: Build a Traffic Sign Recognition Classifier\n",
    "\n",
    "In this notebook, a template is provided for you to implement your functionality in stages, which is required to successfully complete this project. If additional code is required that cannot be included in the notebook, be sure that the Python code is successfully imported and included in your submission if necessary. \n",
    "\n",
    "> **Note**: Once you have completed all of the code implementations, you need to finalize your work by exporting the iPython Notebook as an HTML document. Before exporting the notebook to html, all of the code cells need to have been run so that reviewers can see the final implementation and output. You can then export the notebook by using the menu above and navigating to  \\n\",\n",
    "    \"**File -> Download as -> HTML (.html)**. Include the finished document along with this notebook as your submission. \n",
    "\n",
    "In addition to implementing code, there is a writeup to complete. The writeup should be completed in a separate file, which can be either a markdown file or a pdf document. There is a [write up template](https://github.com/udacity/CarND-Traffic-Sign-Classifier-Project/blob/master/writeup_template.md) that can be used to guide the writing process. Completing the code template and writeup template will cover all of the [rubric points](https://review.udacity.com/#!/rubrics/481/view) for this project.\n",
    "\n",
    "The [rubric](https://review.udacity.com/#!/rubrics/481/view) contains \"Stand Out Suggestions\" for enhancing the project beyond the minimum requirements. The stand out suggestions are optional. If you decide to pursue the \"stand out suggestions\", you can include the code in this Ipython notebook and also discuss the results in the writeup file.\n",
    "\n",
    "\n",
    ">**Note:** Code and Markdown cells can be executed using the **Shift + Enter** keyboard shortcut. In addition, Markdown cells can be edited by typically double-clicking the cell to enter edit mode."
   ]
  },
  {
   "cell_type": "markdown",
   "metadata": {
    "deletable": true,
    "editable": true
   },
   "source": [
    "---\n",
    "## Step 0: Load The Data"
   ]
  },
  {
   "cell_type": "code",
   "execution_count": 1,
   "metadata": {
    "collapsed": false,
    "deletable": true,
    "editable": true
   },
   "outputs": [
    {
     "name": "stdout",
     "output_type": "stream",
     "text": [
      "Image Shape - Training set: (32, 32, 3)\n",
      "Image Shape - Validation set: (32, 32, 3)\n",
      "Image Shape - Test set: (32, 32, 3)\n"
     ]
    }
   ],
   "source": [
    "# Load pickled data\n",
    "import pickle\n",
    "\n",
    "# TODO: Fill this in based on where you saved the training and testing data\n",
    "\n",
    "training_file = 'train.p'\n",
    "validation_file= 'valid.p'\n",
    "testing_file = 'test.p'\n",
    "\n",
    "with open(training_file, mode='rb') as f:\n",
    "    train = pickle.load(f)\n",
    "with open(validation_file, mode='rb') as f:\n",
    "    valid = pickle.load(f)\n",
    "with open(testing_file, mode='rb') as f:\n",
    "    test = pickle.load(f)\n",
    "    \n",
    "X_train, y_train = train['features'], train['labels']\n",
    "X_valid, y_valid = valid['features'], valid['labels']\n",
    "X_test, y_test = test['features'], test['labels']\n",
    "\n",
    "# Checking image sizes\n",
    "print('Image Shape - Training set: {}'.format(X_train[0].shape))\n",
    "print('Image Shape - Validation set: {}'.format(X_valid[0].shape))\n",
    "print('Image Shape - Test set: {}'.format(X_test[0].shape))"
   ]
  },
  {
   "cell_type": "code",
   "execution_count": 2,
   "metadata": {
    "collapsed": true,
    "deletable": true,
    "editable": true
   },
   "outputs": [],
   "source": [
    "#from sklearn.model_selection import train_test_split\n",
    "\n",
    "## Isolating part of training set for future validation (20% here)\n",
    "#X_train, X_valid,  y_train, y_valid = train_test_split(X_train, y_train, test_size=0.2, random_state=0)"
   ]
  },
  {
   "cell_type": "code",
   "execution_count": 3,
   "metadata": {
    "collapsed": true,
    "deletable": true,
    "editable": true
   },
   "outputs": [],
   "source": [
    "import numpy as np\n",
    "\n",
    "# Reading table of signs and assigning to dictionary\n",
    "sign_names = np.genfromtxt ('signnames.csv', delimiter=',', dtype=str, skip_header=1)\n",
    "sign_names_d = {sign_names[k][0] : sign_names[k][1] for k in range(len(sign_names))}"
   ]
  },
  {
   "cell_type": "code",
   "execution_count": 4,
   "metadata": {
    "collapsed": false,
    "deletable": true,
    "editable": true
   },
   "outputs": [],
   "source": [
    "# To visualize sign image given index\n",
    "def visualize_sign_index(feature_set, label_set, sign_names_d, index, cmap=None):\n",
    "    import numpy as np\n",
    "    import matplotlib.pyplot as plt\n",
    "    %matplotlib inline\n",
    "    \n",
    "    image = feature_set[index].squeeze()\n",
    "    \n",
    "    # Printing image index, sign image, sign label and name\n",
    "    print('Index picked:', index)\n",
    "    print('Label:', label_set[index], ' - ', sign_names_d[str(label_set[index])])\n",
    "    plt.figure(figsize=(1,1))\n",
    "    plt.imshow(image, cmap=cmap)\n",
    "    \n",
    "# To visualize randomly picked sign image given label\n",
    "def visualize_sign_label(feature_set, label_set, sign_names_d, label, cmap=None):\n",
    "    import numpy as np\n",
    "    import matplotlib.pyplot as plt\n",
    "    %matplotlib inline\n",
    "    \n",
    "    # Getting images with label\n",
    "    indexes = np.where(label_set==label)\n",
    "    \n",
    "    # Picking index at random\n",
    "    index = indexes[0][random.randint(0, len(indexes[0]))]\n",
    "    \n",
    "    image = feature_set[index].squeeze()\n",
    "    \n",
    "    # Printing image index, sign image, sign label and name\n",
    "    print('Index picked:', index)\n",
    "    print('Label:', label_set[index], ' - ', sign_names_d[str(label_set[index])])\n",
    "    plt.figure(figsize=(1,1))\n",
    "    plt.imshow(image, cmap=cmap)"
   ]
  },
  {
   "cell_type": "code",
   "execution_count": 5,
   "metadata": {
    "collapsed": false,
    "deletable": true,
    "editable": true
   },
   "outputs": [
    {
     "name": "stdout",
     "output_type": "stream",
     "text": [
      "Index picked: 32072\n",
      "Label: 2  -  Speed limit (50km/h)\n"
     ]
    },
    {
     "data": {
      "image/png": "[encoded data removed]",
      "text/plain": [
       "<matplotlib.figure.Figure at 0x7c19eb8>"
      ]
     },
     "metadata": {},
     "output_type": "display_data"
    }
   ],
   "source": [
    "import random\n",
    "\n",
    "# Visualizing image picked randomly\n",
    "random_index = random.randint(0, len(X_train))\n",
    "visualize_sign_index(X_train, y_train, sign_names_d, random_index)"
   ]
  },
  {
   "cell_type": "code",
   "execution_count": 6,
   "metadata": {
    "collapsed": false,
    "deletable": true,
    "editable": true
   },
   "outputs": [
    {
     "name": "stdout",
     "output_type": "stream",
     "text": [
      "Index picked: 15476\n",
      "Label: 38  -  Keep right\n"
     ]
    },
    {
     "data": {
      "image/png": "[encoded data removed]",
      "text/plain": [
       "<matplotlib.figure.Figure at 0x7c49518>"
      ]
     },
     "metadata": {},
     "output_type": "display_data"
    }
   ],
   "source": [
    "# Visualizing image picked randomly for given label\n",
    "l = 38 #(keep right sign)\n",
    "visualize_sign_label(X_train, y_train, sign_names_d, l)"
   ]
  },
  {
   "cell_type": "markdown",
   "metadata": {
    "deletable": true,
    "editable": true
   },
   "source": [
    "### Provide a Basic Summary of the Data Set Using Python, Numpy and/or Pandas"
   ]
  },
  {
   "cell_type": "code",
   "execution_count": 7,
   "metadata": {
    "collapsed": false,
    "deletable": true,
    "editable": true
   },
   "outputs": [
    {
     "name": "stdout",
     "output_type": "stream",
     "text": [
      "Number of training examples = 34799\n",
      "Number of validation  examples = 4410\n",
      "Number of testing examples = 12630\n",
      "Image data shape = (32, 32, 3)\n",
      "Number of classes = 43\n"
     ]
    }
   ],
   "source": [
    "### Replace each question mark with the appropriate value. \n",
    "### Use python, pandas or numpy methods rather than hard coding the results\n",
    "\n",
    "# TODO: Number of training examples\n",
    "n_train = len(X_train)\n",
    "\n",
    "# TODO: Number of validation examples\n",
    "n_valid = len(X_valid)\n",
    "\n",
    "# TODO: Number of testing examples.\n",
    "n_test = len(X_test)\n",
    "\n",
    "# TODO: What's the shape of an traffic sign image?\n",
    "image_shape = X_train[0].shape\n",
    "x_size = image_shape[0]\n",
    "y_size = image_shape[1]\n",
    "n_colors = image_shape[2]\n",
    "\n",
    "# TODO: How many unique classes/labels there are in the dataset.\n",
    "all_classes = np.concatenate((y_train, y_valid, y_test), axis=0)\n",
    "unique_classes = np.unique(all_classes)\n",
    "n_classes = len(unique_classes)\n",
    "\n",
    "print(\"Number of training examples =\", n_train)\n",
    "print(\"Number of validation  examples =\", n_valid)\n",
    "print(\"Number of testing examples =\", n_test)\n",
    "print(\"Image data shape =\", image_shape)\n",
    "print(\"Number of classes =\", n_classes)"
   ]
  },
  {
   "cell_type": "markdown",
   "metadata": {
    "deletable": true,
    "editable": true
   },
   "source": [
    "### Include an exploratory visualization of the dataset"
   ]
  },
  {
   "cell_type": "markdown",
   "metadata": {
    "deletable": true,
    "editable": true
   },
   "source": [
    "Visualize the German Traffic Signs Dataset using the pickled file(s). This is open ended, suggestions include: plotting traffic sign images, plotting the count of each sign, etc.\n",
    "\n",
    "The [Matplotlib](http://matplotlib.org/) [examples](http://matplotlib.org/examples/index.html) and [gallery](http://matplotlib.org/gallery.html) pages are a great resource for doing visualizations in Python.\n",
    "\n",
    "**NOTE:** It's recommended you start with something simple first. If you wish to do more, come back to it after you've completed the rest of the sections."
   ]
  },
  {
   "cell_type": "code",
   "execution_count": 8,
   "metadata": {
    "collapsed": true,
    "deletable": true,
    "editable": true
   },
   "outputs": [],
   "source": [
    "### Data exploration visualization code goes here.\n",
    "### Feel free to use as many code cells as needed.\n",
    "import matplotlib.pyplot as plt\n",
    "# Visualizations will be shown in the notebook.\n",
    "%matplotlib inline"
   ]
  },
  {
   "cell_type": "code",
   "execution_count": 9,
   "metadata": {
    "collapsed": false,
    "deletable": true,
    "editable": true
   },
   "outputs": [
    {
     "data": {
      "image/png": "[encoded data removed]",
      "text/plain": [
       "<matplotlib.figure.Figure at 0x7fc1080>"
      ]
     },
     "metadata": {},
     "output_type": "display_data"
    }
   ],
   "source": [
    "# Plotting distribution of traffic signs (output classes)\n",
    "plt.hist(all_classes, bins=unique_classes)\n",
    "plt.title('Distribution of traffic signs')\n",
    "plt.xlabel('Traffic sign id')\n",
    "plt.ylabel('Frequency')\n",
    "plt.show()"
   ]
  },
  {
   "cell_type": "code",
   "execution_count": 10,
   "metadata": {
    "collapsed": false,
    "deletable": true,
    "editable": true
   },
   "outputs": [
    {
     "name": "stdout",
     "output_type": "stream",
     "text": [
      "Distribution of pixel means\n"
     ]
    },
    {
     "data": {
      "image/png": "[encoded data removed]",
      "text/plain": [
       "<matplotlib.figure.Figure at 0x7fbe2e8>"
      ]
     },
     "metadata": {},
     "output_type": "display_data"
    }
   ],
   "source": [
    "# Plotting distribution of image means\n",
    "\n",
    "# Calculating mean of pixel for each set\n",
    "X_train_mean = []\n",
    "for k in range(len(X_train)):\n",
    "    X_train_mean.append(np.mean(X_train[k]))\n",
    "\n",
    "X_valid_mean = []\n",
    "for k in range(len(X_valid)):\n",
    "    X_valid_mean.append(np.mean(X_valid[k]))\n",
    "\n",
    "X_test_mean = []\n",
    "for k in range(len(X_test)):\n",
    "    X_test_mean.append(np.mean(X_test[k]))\n",
    "\n",
    "# Plotting\n",
    "train_plot = plt.subplot(131)\n",
    "train_plot.hist(X_train_mean, bins=25, facecolor='blue')\n",
    "train_plot.set_title('Training set')\n",
    "train_plot.set_xlabel('Pixel mean')\n",
    "train_plot.set_ylabel('Frequency')\n",
    "\n",
    "valid_plot = plt.subplot(132)\n",
    "valid_plot.hist(X_valid_mean, bins=25, facecolor='green')\n",
    "valid_plot.set_title('Validation set')\n",
    "valid_plot.set_xlabel('Pixel mean')\n",
    "valid_plot.set_ylabel('Frequency')\n",
    "\n",
    "test_plot = plt.subplot(133)\n",
    "test_plot.hist(X_test_mean, bins=25, facecolor='red')\n",
    "test_plot.set_title('Test set')\n",
    "test_plot.set_xlabel('Pixel mean')\n",
    "test_plot.set_ylabel('Frequency')\n",
    "\n",
    "#plt.title('Distribution of means')\n",
    "print('Distribution of pixel means')\n",
    "plt.subplots_adjust(left=None, bottom=None, right=2.5, top=None, wspace=0.5, hspace=None)\n",
    "plt.show()"
   ]
  },
  {
   "cell_type": "markdown",
   "metadata": {
    "deletable": true,
    "editable": true
   },
   "source": [
    "----\n",
    "\n",
    "## Step 2: Design and Test a Model Architecture\n",
    "\n",
    "Design and implement a deep learning model that learns to recognize traffic signs. Train and test your model on the [German Traffic Sign Dataset](http://benchmark.ini.rub.de/?section=gtsrb&subsection=dataset).\n",
    "\n",
    "There are various aspects to consider when thinking about this problem:\n",
    "\n",
    "- Neural network architecture\n",
    "- Play around preprocessing techniques (normalization, rgb to grayscale, etc)\n",
    "- Number of examples per label (some have more than others).\n",
    "- Generate fake data.\n",
    "\n",
    "Here is an example of a [published baseline model on this problem](http://yann.lecun.com/exdb/publis/pdf/sermanet-ijcnn-11.pdf). It's not required to be familiar with the approach used in the paper but, it's good practice to try to read papers like these.\n",
    "\n",
    "**NOTE:** The LeNet-5 implementation shown in the [classroom](https://classroom.udacity.com/nanodegrees/nd013/parts/fbf77062-5703-404e-b60c-95b78b2f3f9e/modules/6df7ae49-c61c-4bb2-a23e-6527e69209ec/lessons/601ae704-1035-4287-8b11-e2c2716217ad/concepts/d4aca031-508f-4e0b-b493-e7b706120f81) at the end of the CNN lesson is a solid starting point. You'll have to change the number of classes and possibly the preprocessing, but aside from that it's plug and play!"
   ]
  },
  {
   "cell_type": "markdown",
   "metadata": {
    "deletable": true,
    "editable": true
   },
   "source": [
    "### Pre-process the Data Set (normalization, grayscale, etc.)"
   ]
  },
  {
   "cell_type": "markdown",
   "metadata": {
    "deletable": true,
    "editable": true
   },
   "source": [
    "Use the code cell (or multiple code cells, if necessary) to implement the first step of your project."
   ]
  },
  {
   "cell_type": "code",
   "execution_count": 11,
   "metadata": {
    "collapsed": true,
    "deletable": true,
    "editable": true
   },
   "outputs": [],
   "source": [
    "### Preprocess the data here. Preprocessing steps could include normalization, converting to grayscale, etc.\n",
    "### Feel free to use as many code cells as needed."
   ]
  },
  {
   "cell_type": "code",
   "execution_count": 12,
   "metadata": {
    "collapsed": false,
    "deletable": true,
    "editable": true
   },
   "outputs": [],
   "source": [
    "# Neutral function\n",
    "def neutral(image_data):\n",
    "    return image_data\n",
    "\n",
    "# Conversion to gray scale\n",
    "def image_gray_old(image_data):\n",
    "    output = []\n",
    "    for k in range(len(image_data)):\n",
    "        im = np.dot(image_data[k][...,:3], [0.299, 0.587, 0.114])\n",
    "        im = np.expand_dims(im, axis=2)\n",
    "        output.append(im)\n",
    "    return output\n",
    "\n",
    "def image_gray(image_data):\n",
    "    import cv2\n",
    "    output = []\n",
    "    for k in range(len(image_data)):\n",
    "        #im = cv2.cvtColor(image_data[k], cv2.COLOR_BGR2GRAY)\n",
    "        im = cv2.cvtColor(image_data[k], cv2.COLOR_RGB2GRAY)\n",
    "        im = np.expand_dims(im, axis=2)\n",
    "        output.append(im)\n",
    "    return output\n",
    "\n",
    "# Min-Max scaling\n",
    "def image_ab(image_data):\n",
    "    # Normalizing image data to a range of [0.1, 0.9]\n",
    "    a = 0.1\n",
    "    b = 0.9\n",
    "    mi = np.min(image_data)\n",
    "    ma = np.max(image_data)\n",
    "    output = a + (image_data - mi) * (b - a) / (ma - mi)\n",
    "    return output\n",
    "\n",
    "# Zero-mean scaling\n",
    "def image_z(image_data):\n",
    "    # Normalizing image data as zero-centered with std=1\n",
    "    output = []\n",
    "    for k in range(len(image_data)):\n",
    "        m = np.mean(image_data[k])\n",
    "        s = np.std(image_data[k])\n",
    "        im = (image_data[k] - m) / s\n",
    "        output.append(im)\n",
    "    return output"
   ]
  },
  {
   "cell_type": "code",
   "execution_count": 13,
   "metadata": {
    "collapsed": false,
    "deletable": true,
    "editable": true
   },
   "outputs": [],
   "source": [
    "# Selecting methods\n",
    "#gray_function = neutral\n",
    "gray_function = image_gray\n",
    "\n",
    "#norm_function = neutral\n",
    "norm_function = image_ab\n",
    "#norm_function = image_z\n",
    "\n",
    "# Running pre-processing\n",
    "X_train_pre = norm_function(gray_function(X_train))\n",
    "X_valid_pre = norm_function(gray_function(X_valid))\n",
    "X_test_pre = norm_function(gray_function(X_test))\n",
    "\n",
    "# Adjusting parameters for later use\n",
    "if gray_function != neutral:\n",
    "    n_colors = 1\n",
    "    cmap = 'gray'\n",
    "else:\n",
    "    cmap = None"
   ]
  },
  {
   "cell_type": "code",
   "execution_count": 14,
   "metadata": {
    "collapsed": false,
    "deletable": true,
    "editable": true
   },
   "outputs": [
    {
     "name": "stdout",
     "output_type": "stream",
     "text": [
      "Max of original image: 155 ; Min of original image: 15\n",
      "Mean of original image: 64.60319010416667\n",
      "Standard deviation of original image: 42.10491642574616\n",
      "\n",
      "Max of processed image: 0.5698412698412698 ; Min of processed image: 0.14126984126984127\n",
      "Mean of processed image: 0.29811817956349207\n",
      "Standard deviation of processed image: 0.13577218675612887\n",
      "\n",
      "Index picked: 32072\n",
      "Label: 2  -  Speed limit (50km/h)\n"
     ]
    },
    {
     "data": {
      "image/png": "[encoded data removed]",
      "text/plain": [
       "<matplotlib.figure.Figure at 0x8043d68>"
      ]
     },
     "metadata": {},
     "output_type": "display_data"
    }
   ],
   "source": [
    "# Testing pre-processing with image previously selected\n",
    "assert X_train_pre[random_index].shape[0] == X_train[random_index].shape[0] and X_train_pre[random_index].shape[1] == X_train[random_index].shape[1], 'NOK: format not preserved'\n",
    "print('Max of original image: {} ; Min of original image: {}'.format(np.max(X_train[random_index]), np.min(X_train[random_index])))\n",
    "print('Mean of original image: {}'.format(np.mean(X_train[random_index])))\n",
    "print('Standard deviation of original image: {}'.format(np.std(X_train[random_index])))\n",
    "print()\n",
    "print('Max of processed image: {} ; Min of processed image: {}'.format(np.max(X_train_pre[random_index]), np.min(X_train_pre[random_index])))\n",
    "print('Mean of processed image: {}'.format(np.mean(X_train_pre[random_index])))\n",
    "print('Standard deviation of processed image: {}'.format(np.std(X_train_pre[random_index])))\n",
    "print()\n",
    "\n",
    "# Visualizing\n",
    "visualize_sign_index(X_train_pre, y_train, sign_names_d, random_index, cmap)"
   ]
  },
  {
   "cell_type": "markdown",
   "metadata": {
    "deletable": true,
    "editable": true
   },
   "source": [
    "### Model Architecture"
   ]
  },
  {
   "cell_type": "code",
   "execution_count": 15,
   "metadata": {
    "collapsed": true,
    "deletable": true,
    "editable": true
   },
   "outputs": [],
   "source": [
    "### Define your architecture here.\n",
    "### Feel free to use as many code cells as needed."
   ]
  },
  {
   "cell_type": "code",
   "execution_count": 16,
   "metadata": {
    "collapsed": true,
    "deletable": true,
    "editable": true
   },
   "outputs": [],
   "source": [
    "import tensorflow as tf\n",
    "\n",
    "# Defining number of epochs and batch size\n",
    "EPOCHS = 10\n",
    "BATCH_SIZE = 128"
   ]
  },
  {
   "cell_type": "code",
   "execution_count": 17,
   "metadata": {
    "collapsed": true,
    "deletable": true,
    "editable": true
   },
   "outputs": [],
   "source": [
    "from tensorflow.contrib.layers import flatten\n",
    "\n",
    "def LeNet(x):    \n",
    "    # Arguments used for tf.truncated_normal, randomly defines variables for the weights and biases for each layer\n",
    "    mu = 0\n",
    "    sigma = 0.1\n",
    "    \n",
    "    # Layer 1: Convolutional. Input = 32x32x3. Output = 28x28x6.\n",
    "    l1_input_depth = n_colors\n",
    "    l1_output_depth = 6\n",
    "    l1_filter_h = 5\n",
    "    l1_filter_w = 5\n",
    "    conv1_W = tf.Variable(tf.truncated_normal(shape=(l1_filter_h, l1_filter_w, l1_input_depth, l1_output_depth), mean = mu, stddev = sigma))\n",
    "    conv1_b = tf.Variable(tf.zeros(l1_output_depth))\n",
    "    l1_strides_k = 1\n",
    "    conv1 = tf.nn.conv2d(x, conv1_W, strides=[1, l1_strides_k, l1_strides_k, 1], padding='VALID') + conv1_b\n",
    "\n",
    "    # Activation.\n",
    "    conv1 = tf.nn.relu(conv1)\n",
    "\n",
    "    # Pooling. Input = 28x28x6. Output = 14x14x6.\n",
    "    l1_pool_k = 2\n",
    "    conv1 = tf.nn.max_pool(conv1, ksize=[1, l1_pool_k, l1_pool_k, 1], strides=[1, l1_pool_k, l1_pool_k, 1], padding='VALID')\n",
    "\n",
    "    # Layer 2: Convolutional. Output = 10x10x16.\n",
    "    l2_input_depth = l1_output_depth\n",
    "    l2_output_depth = 16\n",
    "    l1_filter_h = 5\n",
    "    l1_filter_w = 5\n",
    "    conv2_W = tf.Variable(tf.truncated_normal(shape=(l1_filter_h, l1_filter_h, l2_input_depth, l2_output_depth), mean = mu, stddev = sigma))\n",
    "    conv2_b = tf.Variable(tf.zeros(16))\n",
    "    l2_strides_k = 1\n",
    "    conv2 = tf.nn.conv2d(conv1, conv2_W, strides=[1, l2_strides_k, l2_strides_k, 1], padding='VALID') + conv2_b\n",
    "    \n",
    "    # Activation.\n",
    "    conv2 = tf.nn.relu(conv2)\n",
    "\n",
    "    # Pooling. Input = 10x10x16. Output = 5x5x16.\n",
    "    l2_pool_k = 2\n",
    "    conv2 = tf.nn.max_pool(conv2, ksize=[1, l2_pool_k, l2_pool_k, 1], strides=[1, l2_pool_k, l2_pool_k, 1], padding='VALID')\n",
    "\n",
    "    # Flatten. Input = 5x5x16. Output = 400.\n",
    "    fc0 = flatten(conv2)\n",
    "    \n",
    "    # Layer 3: Fully Connected. Input = 400. Output = 120.\n",
    "    l3_input_size = 400\n",
    "    l3_output_size = 120\n",
    "    fc1_W = tf.Variable(tf.truncated_normal(shape=(l3_input_size, l3_output_size), mean = mu, stddev = sigma))\n",
    "    fc1_b = tf.Variable(tf.zeros(l3_output_size))\n",
    "    fc1 = tf.matmul(fc0, fc1_W) + fc1_b\n",
    "    \n",
    "    # Activation.\n",
    "    fc1 = tf.nn.relu(fc1)\n",
    "\n",
    "    # Layer 4: Fully Connected. Input = 120. Output = 84.\n",
    "    l4_input_size = 120\n",
    "    l4_output_size = 84\n",
    "    fc2_W = tf.Variable(tf.truncated_normal(shape=(l4_input_size, l4_output_size), mean = mu, stddev = sigma))\n",
    "    fc2_b = tf.Variable(tf.zeros(l4_output_size))\n",
    "    fc2 = tf.matmul(fc1, fc2_W) + fc2_b\n",
    "    \n",
    "    # Activation.\n",
    "    fc2 = tf.nn.relu(fc2)\n",
    "\n",
    "    # Layer 5: Fully Connected. Input = 84. Output = 43.\n",
    "    l5_input_size = 84\n",
    "    l5_output_size = n_classes\n",
    "    fc3_W  = tf.Variable(tf.truncated_normal(shape=(l5_input_size, l5_output_size), mean = mu, stddev = sigma))\n",
    "    fc3_b  = tf.Variable(tf.zeros(l5_output_size))\n",
    "    logits = tf.matmul(fc2, fc3_W) + fc3_b\n",
    "    \n",
    "    return logits"
   ]
  },
  {
   "cell_type": "markdown",
   "metadata": {
    "deletable": true,
    "editable": true
   },
   "source": [
    "### Train, Validate and Test the Model"
   ]
  },
  {
   "cell_type": "markdown",
   "metadata": {
    "deletable": true,
    "editable": true
   },
   "source": [
    "A validation set can be used to assess how well the model is performing. A low accuracy on the training and validation\n",
    "sets imply underfitting. A high accuracy on the test set but low accuracy on the validation set implies overfitting."
   ]
  },
  {
   "cell_type": "code",
   "execution_count": 18,
   "metadata": {
    "collapsed": true,
    "deletable": true,
    "editable": true
   },
   "outputs": [],
   "source": [
    "### Train your model here.\n",
    "### Calculate and report the accuracy on the training and validation set.\n",
    "### Once a final model architecture is selected, \n",
    "### the accuracy on the test set should be calculated and reported as well.\n",
    "### Feel free to use as many code cells as needed."
   ]
  },
  {
   "cell_type": "code",
   "execution_count": 19,
   "metadata": {
    "collapsed": false,
    "deletable": true,
    "editable": true
   },
   "outputs": [
    {
     "name": "stdout",
     "output_type": "stream",
     "text": [
      "13920 images selected from training set for rotation.\n",
      "13920 images selected from training set for translation.\n"
     ]
    }
   ],
   "source": [
    "import numpy as np\n",
    "\n",
    "# Data augmentation on training set\n",
    "\n",
    "# Selecting p% of training data for rotation\n",
    "p = 0.4\n",
    "indices = np.random.choice(n_train, int(np.ceil(p * n_train)))\n",
    "\n",
    "X_train_rotated = X_train[indices]\n",
    "y_train_rotated = y_train[indices]\n",
    "print('{} images selected from training set for rotation.'.format(len(X_train_rotated)))\n",
    "\n",
    "\n",
    "# Selecting p% of training data for translation\n",
    "p = 0.4\n",
    "indices = np.random.choice(n_train, int(np.ceil(p * n_train)))\n",
    "\n",
    "X_train_translated = X_train[indices]\n",
    "y_train_translated = y_train[indices]\n",
    "print('{} images selected from training set for translation.'.format(len(X_train_translated)))"
   ]
  },
  {
   "cell_type": "code",
   "execution_count": 20,
   "metadata": {
    "collapsed": false,
    "deletable": true,
    "editable": true
   },
   "outputs": [
    {
     "name": "stdout",
     "output_type": "stream",
     "text": [
      "Index picked: 209\n",
      "Label: 14  -  Stop\n"
     ]
    },
    {
     "data": {
      "image/png": "[encoded data removed]",
      "text/plain": [
       "<matplotlib.figure.Figure at 0x189505f8>"
      ]
     },
     "metadata": {},
     "output_type": "display_data"
    }
   ],
   "source": [
    "# Visualizing random image before augmentation (rotation)\n",
    "import random\n",
    "random_index_rot = random.randint(0, len(X_train_rotated))\n",
    "visualize_sign_index(X_train_rotated, y_train_rotated, sign_names_d, random_index_rot)"
   ]
  },
  {
   "cell_type": "code",
   "execution_count": 21,
   "metadata": {
    "collapsed": false
   },
   "outputs": [
    {
     "name": "stdout",
     "output_type": "stream",
     "text": [
      "Index picked: 1788\n",
      "Label: 3  -  Speed limit (60km/h)\n"
     ]
    },
    {
     "data": {
      "image/png": "[encoded data removed]",
      "text/plain": [
       "<matplotlib.figure.Figure at 0x19763668>"
      ]
     },
     "metadata": {},
     "output_type": "display_data"
    }
   ],
   "source": [
    "# Visualizing random image before augmentation (translation)\n",
    "import random\n",
    "random_index_trs = random.randint(0, len(X_train_translated))\n",
    "visualize_sign_index(X_train_translated, y_train_translated, sign_names_d, random_index_trs)"
   ]
  },
  {
   "cell_type": "code",
   "execution_count": 22,
   "metadata": {
    "collapsed": false,
    "deletable": true,
    "editable": true
   },
   "outputs": [],
   "source": [
    "# Augmenting training data\n",
    "\n",
    "# Translation\n",
    "def image_translate(image_data):\n",
    "    import random\n",
    "    import cv2\n",
    "    output = []\n",
    "    for k in range(len(image_data)):\n",
    "        # Getting image size\n",
    "        im = image_data[k]\n",
    "        rows = im.shape[0]\n",
    "        cols = im.shape[1]\n",
    "        \n",
    "        # Generating random translation factors\n",
    "        trans_factor = 0.2\n",
    "        trans_x = np.random.choice(range(0, int(trans_factor * rows), 1))\n",
    "        trans_y = np.random.choice(range(0, int(trans_factor * cols), 1))\n",
    "        sign = np.random.choice([-1, 1], p=[0.5, 0.5])\n",
    "        \n",
    "        # Running translation\n",
    "        M = np.float32([[1, 0, sign * trans_x], [0, 1, sign * trans_y]])\n",
    "        im = cv2.warpAffine(im, M, (cols, rows))\n",
    "        \n",
    "        output.append(im)\n",
    "    return output\n",
    "\n",
    "# Rotation\n",
    "def image_rotate(image_data):\n",
    "    import random\n",
    "    import cv2\n",
    "    output = []\n",
    "    for k in range(len(image_data)):\n",
    "        # Getting image size\n",
    "        im = image_data[k]\n",
    "        rows = im.shape[0]\n",
    "        cols = im.shape[1]\n",
    "        \n",
    "        # Generating random rotation angle\n",
    "        angle = np.random.choice(range(5, 15, 1))\n",
    "        sign = np.random.choice([-1, 1], p=[0.5, 0.5])\n",
    "        \n",
    "        # Running rotation\n",
    "        M = cv2.getRotationMatrix2D((cols / 2, rows / 2), sign * angle, 1)\n",
    "        im = cv2.warpAffine(im, M, (cols, rows))\n",
    "        \n",
    "        output.append(im)\n",
    "    return output\n",
    "\n",
    "X_train_rotated = image_rotate(X_train_rotated)\n",
    "X_train_translated = image_translate(X_train_translated)"
   ]
  },
  {
   "cell_type": "code",
   "execution_count": 23,
   "metadata": {
    "collapsed": false,
    "deletable": true,
    "editable": true
   },
   "outputs": [
    {
     "name": "stdout",
     "output_type": "stream",
     "text": [
      "Index picked: 209\n",
      "Label: 14  -  Stop\n"
     ]
    },
    {
     "data": {
      "image/png": "[encoded data removed]",
      "text/plain": [
       "<matplotlib.figure.Figure at 0x8303518>"
      ]
     },
     "metadata": {},
     "output_type": "display_data"
    }
   ],
   "source": [
    "# Visualizing augmented image (rotation)\n",
    "visualize_sign_index(X_train_rotated, y_train_rotated, sign_names_d, random_index_rot)"
   ]
  },
  {
   "cell_type": "code",
   "execution_count": 24,
   "metadata": {
    "collapsed": false
   },
   "outputs": [
    {
     "name": "stdout",
     "output_type": "stream",
     "text": [
      "Index picked: 1788\n",
      "Label: 3  -  Speed limit (60km/h)\n"
     ]
    },
    {
     "data": {
      "image/png": "[encoded data removed]",
      "text/plain": [
       "<matplotlib.figure.Figure at 0x7552fd0>"
      ]
     },
     "metadata": {},
     "output_type": "display_data"
    }
   ],
   "source": [
    "# Visualizing augmented image (translation)\n",
    "visualize_sign_index(X_train_translated, y_train_translated, sign_names_d, random_index_trs)"
   ]
  },
  {
   "cell_type": "code",
   "execution_count": 25,
   "metadata": {
    "collapsed": false,
    "deletable": true,
    "editable": true
   },
   "outputs": [
    {
     "name": "stdout",
     "output_type": "stream",
     "text": [
      "Index picked: 209\n",
      "Label: 14  -  Stop\n"
     ]
    },
    {
     "data": {
      "image/png": "[encoded data removed]",
      "text/plain": [
       "<matplotlib.figure.Figure at 0x758aa20>"
      ]
     },
     "metadata": {},
     "output_type": "display_data"
    }
   ],
   "source": [
    "# Applying gray scale and normalization\n",
    "X_train_rotated = norm_function(gray_function(X_train_rotated))\n",
    "X_train_translated = norm_function(gray_function(X_train_translated))\n",
    "\n",
    "# Visualizing pre-processed augmented image\n",
    "visualize_sign_index(X_train_rotated, y_train_rotated, sign_names_d, random_index_rot)"
   ]
  },
  {
   "cell_type": "code",
   "execution_count": 26,
   "metadata": {
    "collapsed": false
   },
   "outputs": [
    {
     "name": "stdout",
     "output_type": "stream",
     "text": [
      "Index picked: 1788\n",
      "Label: 3  -  Speed limit (60km/h)\n"
     ]
    },
    {
     "data": {
      "image/png": "[encoded data removed]",
      "text/plain": [
       "<matplotlib.figure.Figure at 0x848c0f0>"
      ]
     },
     "metadata": {},
     "output_type": "display_data"
    }
   ],
   "source": [
    "# Visualizing pre-processed augmented image\n",
    "visualize_sign_index(X_train_translated, y_train_translated, sign_names_d, random_index_trs)"
   ]
  },
  {
   "cell_type": "code",
   "execution_count": 27,
   "metadata": {
    "collapsed": false,
    "deletable": true,
    "editable": true
   },
   "outputs": [
    {
     "name": "stdout",
     "output_type": "stream",
     "text": [
      "62639 images in augmented training set.\n"
     ]
    }
   ],
   "source": [
    "# Adding augmented data to training set\n",
    "X_train_augm = np.concatenate((X_train_pre, X_train_rotated, X_train_translated), axis=0)\n",
    "y_train_augm = np.concatenate((y_train, y_train_rotated, y_train_translated), axis=0)\n",
    "print('{} images in augmented training set.'.format(len(X_train_augm)))"
   ]
  },
  {
   "cell_type": "code",
   "execution_count": 28,
   "metadata": {
    "collapsed": false,
    "deletable": true,
    "editable": true
   },
   "outputs": [],
   "source": [
    "# Instantiating placeholders for batches of images and labels\n",
    "x = tf.placeholder(tf.float32, (None, x_size, y_size, n_colors))\n",
    "y = tf.placeholder(tf.int32, (None))\n",
    "one_hot_y = tf.one_hot(y, n_classes)"
   ]
  },
  {
   "cell_type": "code",
   "execution_count": 29,
   "metadata": {
    "collapsed": true,
    "deletable": true,
    "editable": true
   },
   "outputs": [],
   "source": [
    "# Defining training pipeline\n",
    "\n",
    "# Hyper-parameters: learning rate and L2-regularization coefficient\n",
    "rate = 0.001\n",
    "l2_beta = 0.01\n",
    "\n",
    "# Generating logits from network\n",
    "logits = LeNet(x)\n",
    "\n",
    "# Calculating cross-entropy\n",
    "cross_entropy = tf.nn.softmax_cross_entropy_with_logits(logits, one_hot_y)\n",
    "\n",
    "# Applying L2-regularization (to prevent overfitting by penalizing large weights)\n",
    "l2_regul = cross_entropy + l2_beta * tf.nn.l2_loss(logits)\n",
    "\n",
    "# Calculating loss\n",
    "loss_operation = tf.reduce_mean(l2_regul)\n",
    "\n",
    "# Defining loss optimizer\n",
    "optimizer = tf.train.AdamOptimizer(learning_rate = rate)\n",
    "\n",
    "# Running pipeline\n",
    "training_operation = optimizer.minimize(loss_operation)"
   ]
  },
  {
   "cell_type": "code",
   "execution_count": 30,
   "metadata": {
    "collapsed": true,
    "deletable": true,
    "editable": true
   },
   "outputs": [],
   "source": [
    "# Evaluating model\n",
    "correct_prediction = tf.equal(tf.argmax(logits, 1), tf.argmax(one_hot_y, 1))\n",
    "accuracy_operation = tf.reduce_mean(tf.cast(correct_prediction, tf.float32))\n",
    "saver = tf.train.Saver()\n",
    "\n",
    "def evaluate(X_data, y_data):\n",
    "    num_examples = len(X_data)\n",
    "    total_accuracy = 0\n",
    "    sess = tf.get_default_session()\n",
    "    for offset in range(0, num_examples, BATCH_SIZE):\n",
    "        end = offset + BATCH_SIZE\n",
    "        batch_x, batch_y = X_data[offset:end], y_data[offset:end]\n",
    "        accuracy = sess.run(accuracy_operation, feed_dict={x: batch_x, y: batch_y})\n",
    "        total_accuracy += (accuracy * len(batch_x))\n",
    "    return total_accuracy / num_examples"
   ]
  },
  {
   "cell_type": "code",
   "execution_count": 31,
   "metadata": {
    "collapsed": false,
    "deletable": true,
    "editable": true
   },
   "outputs": [
    {
     "name": "stdout",
     "output_type": "stream",
     "text": [
      "Training...\n",
      "\n",
      "EPOCH 1 ...\n",
      "Validation Accuracy = 0.734\n",
      "\n",
      "EPOCH 2 ...\n",
      "Validation Accuracy = 0.865\n",
      "\n",
      "EPOCH 3 ...\n",
      "Validation Accuracy = 0.885\n",
      "\n",
      "EPOCH 4 ...\n",
      "Validation Accuracy = 0.900\n",
      "\n",
      "EPOCH 5 ...\n",
      "Validation Accuracy = 0.915\n",
      "\n",
      "EPOCH 6 ...\n",
      "Validation Accuracy = 0.923\n",
      "\n",
      "EPOCH 7 ...\n",
      "Validation Accuracy = 0.932\n",
      "\n",
      "EPOCH 8 ...\n",
      "Validation Accuracy = 0.935\n",
      "\n",
      "EPOCH 9 ...\n",
      "Validation Accuracy = 0.930\n",
      "\n",
      "EPOCH 10 ...\n",
      "Validation Accuracy = 0.941\n",
      "\n",
      "Model saved\n"
     ]
    }
   ],
   "source": [
    "# Training model\n",
    "from sklearn.utils import shuffle\n",
    "\n",
    "with tf.Session() as sess:\n",
    "    sess.run(tf.global_variables_initializer())\n",
    "    num_examples = len(X_train_augm)\n",
    "    \n",
    "    print(\"Training...\")\n",
    "    print()\n",
    "    for i in range(EPOCHS):\n",
    "        X_train_augm, y_train_augm = shuffle(X_train_augm, y_train_augm)\n",
    "        for offset in range(0, num_examples, BATCH_SIZE):\n",
    "            end = offset + BATCH_SIZE\n",
    "            batch_x, batch_y = X_train_augm[offset:end], y_train_augm[offset:end]\n",
    "            sess.run(training_operation, feed_dict={x: batch_x, y: batch_y})\n",
    "            \n",
    "        validation_accuracy = evaluate(X_valid_pre, y_valid)\n",
    "        print(\"EPOCH {} ...\".format(i+1))\n",
    "        print(\"Validation Accuracy = {:.3f}\".format(validation_accuracy))\n",
    "        print()\n",
    "        \n",
    "    saver.save(sess, './traffic_signs')\n",
    "    print(\"Model saved\")"
   ]
  },
  {
   "cell_type": "markdown",
   "metadata": {
    "deletable": true,
    "editable": true
   },
   "source": [
    "---\n",
    "\n",
    "## Step 3: Test a Model on New Images\n",
    "\n",
    "To give yourself more insight into how your model is working, download at least five pictures of German traffic signs from the web and use your model to predict the traffic sign type.\n",
    "\n",
    "You may find `signnames.csv` useful as it contains mappings from the class id (integer) to the actual sign name."
   ]
  },
  {
   "cell_type": "markdown",
   "metadata": {
    "deletable": true,
    "editable": true
   },
   "source": [
    "### Load and Output the Images"
   ]
  },
  {
   "cell_type": "markdown",
   "metadata": {
    "deletable": true,
    "editable": true
   },
   "source": [
    "### Predict the Sign Type for Each Image"
   ]
  },
  {
   "cell_type": "code",
   "execution_count": 32,
   "metadata": {
    "collapsed": true,
    "deletable": true,
    "editable": true
   },
   "outputs": [],
   "source": [
    "### Load the images and plot them here.\n",
    "### Feel free to use as many code cells as needed."
   ]
  },
  {
   "cell_type": "code",
   "execution_count": 33,
   "metadata": {
    "collapsed": false,
    "deletable": true,
    "editable": true
   },
   "outputs": [
    {
     "name": "stdout",
     "output_type": "stream",
     "text": [
      "11 - Right-of-way at the next intersection\n"
     ]
    },
    {
     "data": {
      "image/png": "[encoded data removed]",
      "text/plain": [
       "<matplotlib.figure.Figure at 0x75a4be0>"
      ]
     },
     "metadata": {},
     "output_type": "display_data"
    },
    {
     "name": "stdout",
     "output_type": "stream",
     "text": [
      "\n",
      "14 - Stop\n"
     ]
    },
    {
     "data": {
      "image/png": "[encoded data removed]",
      "text/plain": [
       "<matplotlib.figure.Figure at 0xa5041d0>"
      ]
     },
     "metadata": {},
     "output_type": "display_data"
    },
    {
     "name": "stdout",
     "output_type": "stream",
     "text": [
      "\n",
      "28 - Children crossing\n"
     ]
    },
    {
     "data": {
      "image/png": "[encoded data removed]",
      "text/plain": [
       "<matplotlib.figure.Figure at 0x725d9b0>"
      ]
     },
     "metadata": {},
     "output_type": "display_data"
    },
    {
     "name": "stdout",
     "output_type": "stream",
     "text": [
      "\n",
      "2 - Speed limit (50km/h)\n"
     ]
    },
    {
     "data": {
      "image/png": "[encoded data removed]",
      "text/plain": [
       "<matplotlib.figure.Figure at 0x1c18f208>"
      ]
     },
     "metadata": {},
     "output_type": "display_data"
    },
    {
     "name": "stdout",
     "output_type": "stream",
     "text": [
      "\n",
      "38 - Keep right\n"
     ]
    },
    {
     "data": {
      "image/png": "[encoded data removed]",
      "text/plain": [
       "<matplotlib.figure.Figure at 0x36b46fd0>"
      ]
     },
     "metadata": {},
     "output_type": "display_data"
    },
    {
     "name": "stdout",
     "output_type": "stream",
     "text": [
      "\n",
      "\n",
      "Number of test images:  5\n"
     ]
    }
   ],
   "source": [
    "import numpy as np\n",
    "import cv2\n",
    "import os\n",
    "\n",
    "%matplotlib inline\n",
    "\n",
    "X_test_2 = []\n",
    "y_test_2 = []\n",
    "\n",
    "dirname = 'test_images'\n",
    "for filename in os.listdir(dirname):\n",
    "    # Loading image file\n",
    "    filename = dirname + os.sep + filename\n",
    "    #image = Image.open(filename)\n",
    "    \n",
    "    # Getting label from name (first)\n",
    "    label_id = os.path.split(filename)[1].split('_')[0]\n",
    "    \n",
    "    # Getting label description from dictionary\n",
    "    label_desc = label_id + ' - ' + sign_names_d[label_id]\n",
    "    #print(label_desc)\n",
    "    \n",
    "    # Converting from BGR to RGB (Opencv images come as BGR by default instead of RGB)\n",
    "    image = cv2.imread(filename)\n",
    "    image = cv2.cvtColor(image, cv2.COLOR_BGR2RGB)\n",
    "    \n",
    "    # Preparing plotting - Original image\n",
    "    plt.figure(figsize=(5,5))\n",
    "    orig_plot = plt.subplot(121)\n",
    "    orig_plot.set_title('Original - Shape ' + str(image.shape))\n",
    "    orig_plot.imshow(image)\n",
    "    \n",
    "    if int(label_id) <= n_classes:\n",
    "        # Resizing to 32x32\n",
    "        image = cv2.resize(image, (32,32))\n",
    "        \n",
    "        # Appending to second test set\n",
    "        X_test_2.append(image)\n",
    "        y_test_2.append(int(label_id))\n",
    "        \n",
    "        # Preparing plotting - Resized image\n",
    "        resized_plot = plt.subplot(122)\n",
    "        resized_plot.set_title('Resized - Shape ' + str(image.shape))\n",
    "        resized_plot.imshow(image)\n",
    "        \n",
    "        # Plotting\n",
    "        print(label_desc)\n",
    "        plt.subplots_adjust(left=None, bottom=None, right=None, top=None, wspace=4.0, hspace=None)\n",
    "        plt.show()\n",
    "        \n",
    "    print()\n",
    "\n",
    "# Getting number of test examples\n",
    "n_test = len(X_test_2)\n",
    "assert n_test == len(y_test_2), 'Labels do not match images.'\n",
    "print()\n",
    "print('Number of test images: ', n_test)"
   ]
  },
  {
   "cell_type": "code",
   "execution_count": 34,
   "metadata": {
    "collapsed": false,
    "deletable": true,
    "editable": true
   },
   "outputs": [],
   "source": [
    "### Run the predictions here and use the model to output the prediction for each image.\n",
    "### Make sure to pre-process the images with the same pre-processing pipeline used earlier.\n",
    "### Feel free to use as many code cells as needed."
   ]
  },
  {
   "cell_type": "code",
   "execution_count": 35,
   "metadata": {
    "collapsed": true,
    "deletable": true,
    "editable": true
   },
   "outputs": [],
   "source": [
    "assert logits != None, 'Network to be trained first.'"
   ]
  },
  {
   "cell_type": "code",
   "execution_count": 36,
   "metadata": {
    "collapsed": false,
    "deletable": true,
    "editable": true
   },
   "outputs": [
    {
     "name": "stdout",
     "output_type": "stream",
     "text": [
      "Image 0 with label 11 - Right-of-way at the next intersection\n",
      "Prediction = 11\n",
      "--> Prediction agrees with actual label.\n",
      "\n",
      "Image 1 with label 14 - Stop\n",
      "Prediction = 14\n",
      "--> Prediction agrees with actual label.\n",
      "\n",
      "Image 2 with label 28 - Children crossing\n",
      "Prediction = 28\n",
      "--> Prediction agrees with actual label.\n",
      "\n",
      "Image 3 with label 2 - Speed limit (50km/h)\n",
      "Prediction = 2\n",
      "--> Prediction agrees with actual label.\n",
      "\n",
      "Image 4 with label 38 - Keep right\n",
      "Prediction = 38\n",
      "--> Prediction agrees with actual label.\n",
      "\n"
     ]
    }
   ],
   "source": [
    "# Pre-processing test images downloaded on the web\n",
    "X_test_def = norm_function(gray_function(X_test_2))\n",
    "y_test_def = y_test_2\n",
    "\n",
    "# Running predictions on images downloaded on the web\n",
    "with tf.Session() as sess:\n",
    "    # Reloading saved model\n",
    "    saver.restore(sess, tf.train.latest_checkpoint('.'))\n",
    "    \n",
    "    # Running model on images\n",
    "    softmax = tf.nn.softmax(logits)\n",
    "    \n",
    "    # Getting prediction with highest probability (k = 1 in tf.nn.top_k)\n",
    "    output = sess.run(softmax, feed_dict={x: X_test_def})\n",
    "    values, indices = tf.nn.top_k(output, 1)\n",
    "    probas = sess.run(values)\n",
    "    predictions = sess.run(indices)\n",
    "    \n",
    "    # Printing prediction\n",
    "    for k in range(len(X_test_def)):\n",
    "        print('Image {} with label {} - {}'.format(k, y_test_def[k], sign_names_d[str(y_test_def[k])]))\n",
    "        print('Prediction = {}'.format(predictions[k][0]))\n",
    "        if predictions[k][0] == y_test_def[k]:\n",
    "            print('--> Prediction agrees with actual label.')\n",
    "        else:\n",
    "            print('--> Prediction wrong.')\n",
    "        print()"
   ]
  },
  {
   "cell_type": "markdown",
   "metadata": {
    "deletable": true,
    "editable": true
   },
   "source": [
    "### Analyze Performance"
   ]
  },
  {
   "cell_type": "code",
   "execution_count": 37,
   "metadata": {
    "collapsed": true,
    "deletable": true,
    "editable": true
   },
   "outputs": [],
   "source": [
    "### Calculate the accuracy for these 5 new images. \n",
    "### For example, if the model predicted 1 out of 5 signs correctly, it's 20% accurate on these new images."
   ]
  },
  {
   "cell_type": "code",
   "execution_count": 38,
   "metadata": {
    "collapsed": false,
    "deletable": true,
    "editable": true
   },
   "outputs": [
    {
     "name": "stdout",
     "output_type": "stream",
     "text": [
      "Number of images processed:  5\n",
      "Test accuracy = 100.00%\n"
     ]
    }
   ],
   "source": [
    "# Calculating accuracy on images downloaded from the web\n",
    "with tf.Session() as sess:\n",
    "    # Reloading saved model\n",
    "    saver.restore(sess, tf.train.latest_checkpoint('.'))\n",
    "    \n",
    "    # Calculating accuracy\n",
    "    test_accuracy = evaluate(X_test_def, y_test_def)\n",
    "    print('Number of images processed: ', len(X_test_def))\n",
    "    print('Test accuracy = {0:.2f}%'.format(test_accuracy * 100))"
   ]
  },
  {
   "cell_type": "code",
   "execution_count": 39,
   "metadata": {
    "collapsed": false,
    "deletable": true,
    "editable": true
   },
   "outputs": [
    {
     "name": "stdout",
     "output_type": "stream",
     "text": [
      "Number of images processed:  12630\n",
      "Test accuracy = 92.98%\n"
     ]
    }
   ],
   "source": [
    "# Pre-processing images from test set provided for project\n",
    "X_test_def = norm_function(gray_function(X_test))\n",
    "y_test_def = y_test\n",
    "\n",
    "# Calculating accuracy on test set provided for project\n",
    "with tf.Session() as sess:\n",
    "    # Reloading saved model\n",
    "    saver.restore(sess, tf.train.latest_checkpoint('.'))\n",
    "    \n",
    "    # Calculating accuracy\n",
    "    test_accuracy = evaluate(X_test_def, y_test_def)\n",
    "    print('Number of images processed: ', len(X_test_def))\n",
    "    print('Test accuracy = {0:.2f}%'.format(test_accuracy * 100))"
   ]
  },
  {
   "cell_type": "markdown",
   "metadata": {
    "deletable": true,
    "editable": true
   },
   "source": [
    "### Output Top 5 Softmax Probabilities For Each Image Found on the Web"
   ]
  },
  {
   "cell_type": "markdown",
   "metadata": {
    "deletable": true,
    "editable": true
   },
   "source": [
    "For each of the new images, print out the model's softmax probabilities to show the **certainty** of the model's predictions (limit the output to the top 5 probabilities for each image). [`tf.nn.top_k`](https://www.tensorflow.org/versions/r0.12/api_docs/python/nn.html#top_k) could prove helpful here. \n",
    "\n",
    "The example below demonstrates how tf.nn.top_k can be used to find the top k predictions for each image.\n",
    "\n",
    "`tf.nn.top_k` will return the values and indices (class ids) of the top k predictions. So if k=3, for each sign, it'll return the 3 largest probabilities (out of a possible 43) and the correspoding class ids.\n",
    "\n",
    "Take this numpy array as an example. The values in the array represent predictions. The array contains softmax probabilities for five candidate images with six possible classes. `tk.nn.top_k` is used to choose the three classes with the highest probability:\n",
    "\n",
    "```\n",
    "# (5, 6) array\n",
    "a = np.array([[ 0.24879643,  0.07032244,  0.12641572,  0.34763842,  0.07893497,\n",
    "         0.12789202],\n",
    "       [ 0.28086119,  0.27569815,  0.08594638,  0.0178669 ,  0.18063401,\n",
    "         0.15899337],\n",
    "       [ 0.26076848,  0.23664738,  0.08020603,  0.07001922,  0.1134371 ,\n",
    "         0.23892179],\n",
    "       [ 0.11943333,  0.29198961,  0.02605103,  0.26234032,  0.1351348 ,\n",
    "         0.16505091],\n",
    "       [ 0.09561176,  0.34396535,  0.0643941 ,  0.16240774,  0.24206137,\n",
    "         0.09155967]])\n",
    "```\n",
    "\n",
    "Running it through `sess.run(tf.nn.top_k(tf.constant(a), k=3))` produces:\n",
    "\n",
    "```\n",
    "TopKV2(values=array([[ 0.34763842,  0.24879643,  0.12789202],\n",
    "       [ 0.28086119,  0.27569815,  0.18063401],\n",
    "       [ 0.26076848,  0.23892179,  0.23664738],\n",
    "       [ 0.29198961,  0.26234032,  0.16505091],\n",
    "       [ 0.34396535,  0.24206137,  0.16240774]]), indices=array([[3, 0, 5],\n",
    "       [0, 1, 4],\n",
    "       [0, 5, 1],\n",
    "       [1, 3, 5],\n",
    "       [1, 4, 3]], dtype=int32))\n",
    "```\n",
    "\n",
    "Looking just at the first row we get `[ 0.34763842,  0.24879643,  0.12789202]`, you can confirm these are the 3 largest probabilities in `a`. You'll also notice `[3, 0, 5]` are the corresponding indices."
   ]
  },
  {
   "cell_type": "code",
   "execution_count": 40,
   "metadata": {
    "collapsed": false,
    "deletable": true,
    "editable": true
   },
   "outputs": [],
   "source": [
    "### Print out the top five softmax probabilities for the predictions on the German traffic sign images found on the web. \n",
    "### Feel free to use as many code cells as needed."
   ]
  },
  {
   "cell_type": "code",
   "execution_count": 41,
   "metadata": {
    "collapsed": false,
    "deletable": true,
    "editable": true
   },
   "outputs": [
    {
     "name": "stdout",
     "output_type": "stream",
     "text": [
      "Probabilities: \n",
      "TopKV2(values=array([[ 0.05167377,  0.02343663,  0.02301729,  0.02286875,  0.02281614],\n",
      "       [ 0.03644363,  0.02911427,  0.02346484,  0.02339604,  0.02332812],\n",
      "       [ 0.03822012,  0.02360993,  0.0234372 ,  0.02341032,  0.02317869],\n",
      "       [ 0.04811666,  0.02345644,  0.02289112,  0.02283588,  0.02275841],\n",
      "       [ 0.04461398,  0.02333484,  0.02327715,  0.02311659,  0.0230398 ]], dtype=float32), indices=array([[11, 33, 24,  5, 26],\n",
      "       [14,  1, 36, 27,  4],\n",
      "       [28, 20, 27, 11, 23],\n",
      "       [ 2,  3,  1, 32, 20],\n",
      "       [38, 32, 12,  5,  2]]))\n"
     ]
    }
   ],
   "source": [
    "# Pre-processing test images downloaded on the web\n",
    "X_test_def = norm_function(gray_function(X_test_2))\n",
    "y_test_def = y_test_2\n",
    "\n",
    "# Running predictions on images downloaded on the web\n",
    "with tf.Session() as sess:\n",
    "    # Reloading saved model\n",
    "    saver.restore(sess, tf.train.latest_checkpoint('.'))\n",
    "    \n",
    "    # Running model on images\n",
    "    softmax = tf.nn.softmax(logits)\n",
    "    \n",
    "    # Getting predictions with 5 highest probabilities (k = 5 in tf.nn.top_k)\n",
    "    output = sess.run(softmax, feed_dict={x: X_test_def})\n",
    "    values_indices = tf.nn.top_k(output, 5)\n",
    "    probas_indices = sess.run(values_indices)\n",
    "    print('Probabilities: ')\n",
    "    print(probas_indices)"
   ]
  },
  {
   "cell_type": "code",
   "execution_count": 42,
   "metadata": {
    "collapsed": false,
    "deletable": true,
    "editable": true
   },
   "outputs": [
    {
     "name": "stdout",
     "output_type": "stream",
     "text": [
      "Image 0 with label 11 - Right-of-way at the next intersection\n"
     ]
    },
    {
     "data": {
      "image/png": "[encoded data removed]",
      "text/plain": [
       "<matplotlib.figure.Figure at 0x75c4f98>"
      ]
     },
     "metadata": {},
     "output_type": "display_data"
    },
    {
     "name": "stdout",
     "output_type": "stream",
     "text": [
      "\n",
      "Image 1 with label 14 - Stop\n"
     ]
    },
    {
     "data": {
      "image/png": "[encoded data removed]",
      "text/plain": [
       "<matplotlib.figure.Figure at 0x1d4b7ef0>"
      ]
     },
     "metadata": {},
     "output_type": "display_data"
    },
    {
     "name": "stdout",
     "output_type": "stream",
     "text": [
      "\n",
      "Image 2 with label 28 - Children crossing\n"
     ]
    },
    {
     "data": {
      "image/png": "[encoded data removed]",
      "text/plain": [
       "<matplotlib.figure.Figure at 0x724dba8>"
      ]
     },
     "metadata": {},
     "output_type": "display_data"
    },
    {
     "name": "stdout",
     "output_type": "stream",
     "text": [
      "\n",
      "Image 3 with label 2 - Speed limit (50km/h)\n"
     ]
    },
    {
     "data": {
      "image/png": "[encoded data removed]",
      "text/plain": [
       "<matplotlib.figure.Figure at 0x1d49e9b0>"
      ]
     },
     "metadata": {},
     "output_type": "display_data"
    },
    {
     "name": "stdout",
     "output_type": "stream",
     "text": [
      "\n",
      "Image 4 with label 38 - Keep right\n"
     ]
    },
    {
     "data": {
      "image/png": "[encoded data removed]",
      "text/plain": [
       "<matplotlib.figure.Figure at 0x1d40c400>"
      ]
     },
     "metadata": {},
     "output_type": "display_data"
    },
    {
     "name": "stdout",
     "output_type": "stream",
     "text": [
      "\n"
     ]
    }
   ],
   "source": [
    "# Pre-processing test images downloaded on the web\n",
    "X_test_def = norm_function(gray_function(X_test_2))\n",
    "y_test_def = y_test_2\n",
    "\n",
    "# Running predictions on images downloaded on the web\n",
    "with tf.Session() as sess:\n",
    "    # Reloading saved model\n",
    "    saver.restore(sess, tf.train.latest_checkpoint('.'))\n",
    "    \n",
    "    # Running model on images\n",
    "    softmax = tf.nn.softmax(logits)\n",
    "    \n",
    "    # Getting prediction with highest probability (k = 1 in tf.nn.top_k)\n",
    "    output = sess.run(softmax, feed_dict={x: X_test_def})\n",
    "    values, indices = tf.nn.top_k(output, 5)\n",
    "    probas = sess.run(values)\n",
    "    predictions = sess.run(indices)\n",
    "    \n",
    "    for k in range(len(X_test_def)):\n",
    "        print('Image {} with label {} - {}'.format(k, y_test_def[k], sign_names_d[str(y_test_def[k])]))\n",
    "        \n",
    "        plt_colors = ['grey' if (x < max(probas[k])) else 'red' for x in probas[k]]\n",
    "        plt_weight = ['' if (x < max(probas[k])) else 'bold' for x in probas[k]]\n",
    "        plt.bar(predictions[k], probas[k], color=plt_colors)\n",
    "        \n",
    "        plt.xlabel('Sign label')\n",
    "        plt.ylabel('Probability')\n",
    "        plt.xticks(predictions[k])\n",
    "        plt.xlim(0, n_classes)\n",
    "        \n",
    "        plt.show()\n",
    "        print()"
   ]
  },
  {
   "cell_type": "markdown",
   "metadata": {
    "deletable": true,
    "editable": true
   },
   "source": [
    "> **Note**: Once you have completed all of the code implementations, you need to finalize your work by exporting the IPython Notebook as an HTML document. Before exporting the notebook to html, all of the code cells need to have been run. You can then export the notebook by using the menu above and navigating to  \\n\",\n",
    "    \"**File -> Download as -> HTML (.html)**. Include the finished document along with this notebook as your submission. "
   ]
  },
  {
   "cell_type": "markdown",
   "metadata": {
    "deletable": true,
    "editable": true
   },
   "source": [
    "### Project Writeup\n",
    "\n",
    "Once you have completed the code implementation, document your results in a project writeup using this [template](https://github.com/udacity/CarND-Traffic-Sign-Classifier-Project/blob/master/writeup_template.md) as a guide. The writeup can be in a markdown or pdf file. "
   ]
  }
 ],
 "metadata": {
  "anaconda-cloud": {},
  "kernelspec": {
   "display_name": "Python 3",
   "language": "python",
   "name": "python3"
  },
  "language_info": {
   "codemirror_mode": {
    "name": "ipython",
    "version": 3
   },
   "file_extension": ".py",
   "mimetype": "text/x-python",
   "name": "python",
   "nbconvert_exporter": "python",
   "pygments_lexer": "ipython3",
   "version": "3.5.2"
  },
  "widgets": {
   "state": {},
   "version": "1.1.2"
  }
 },
 "nbformat": 4,
 "nbformat_minor": 1
}
